{
 "cells": [
  {
   "cell_type": "markdown",
   "metadata": {},
   "source": [
    "# Classification\n",
    "Please ensure you carefully read all instructions on the assignment page, this section, and the rest of the notebook. If anything is unclear at any time please ask the teaching team well in advance of the assignment deadline.\n",
    "\n",
    "In addition to all of the instructions in the body of the assignment below, you must also follow the following technical instructions for all assignments in this unit. *Failure to do so may result in a grade of zero.*\n",
    "* [At the bottom of the page](#Submission-Test) is some code which checks you meet the submission requirements. You **must** ensure that this runs correctly before submission.\n",
    "* Do not modify or delete any of the cells that are marked as test cells, even if they appear to be empty.\n",
    "* Do not duplicate any cells in the notebook – this can break the marking script. Instead, insert a new cell (e.g. from the menu) and copy across any contents as necessary.\n",
    "\n",
    "Remember to save and backup your work regularly, and double-check you are submitting the correct version.\n",
    "\n",
    "This notebook is the primary reference for your submission. You may write code in separate `.py` files but it must be clearly imported into the notebook so that it runs without needing to reference those files, and you must explain clearly what functionality is contained in those files (through comments, markdown cells, etc).\n",
    "\n",
    "**You should also submit a readme file (.txt or .md) explaining your implementation, any decisions or extensions you made, and what parameter values you used.** This explanation should demonstrate what you have done and that you have done it on your own, e.g., you understand methods that you have used. Failure to submit a readme file, or if the readme file does not contain enough information to demonstrate what you have done and that you actually understand what you have done may result in getting zero marks for this assignment.\n",
    "\n",
    "As always, **the work you submit for this assignment must be entirely your own.** Do not copy or work with other students. Do not copy answers that you find online. These assignments are designed to help improve your understanding first and foremost – the process of doing the assignment is part of *learning*. They are also used to assess your ability, and so you must uphold academic integrity. Submitting plagiarised work risks your entire place on your degree.\n",
    "\n",
    "**This assignment is worth 20% of your total mark for the unit. The deadline for this assignment is 30 April 2021 at 8 pm UK time.** Please ask for help if you are struggling. Your submission should include:\n",
    "\n",
    "* this notebook filled with your code\n",
    "* readme file (.txt or .md)\n",
    "* any additional .py files that you may wish to use (remember to properly import them in this notebook)\n",
    "\n",
    "## Getting Started\n",
    "This assignment contains 2 parts. The first one is **compulsory** and it is worth 70% of your mark for this assignment. The second part is **optional** if you would like to get a higher (over 70%) mark for this assignment. \n",
    "\n",
    "This assignment is devoted to supervised machine learning. In the first part of the assignment you are asked to write a classifier to detect any spam email messages. In the second part of the assignment you are asked to work on feature design for a classifier to classify hand written digits."
   ]
  },
  {
   "cell_type": "code",
   "execution_count": null,
   "metadata": {},
   "outputs": [],
   "source": [
    "%matplotlib inline"
   ]
  },
  {
   "cell_type": "markdown",
   "metadata": {},
   "source": [
    "# Part 1 (compulsory, worth 70% of the mark for this assignment) - Spam filtering\n",
    "\n",
    "Spam refers to unwanted email, often in the form of advertisements. In the literature, an email that is **not** spam is called *ham*. Most email providers offer automatic spam filtering, where spam emails will be moved to a separate inbox based on their contents. Of course this requires being able to scan an email and determine whether it is spam or ham, a classification problem. This is the subject of this part of the assignment.\n",
    "\n",
    "You will need to write a supervised learning based classifier to determine whether a given email is spam or ham. You must write and submit the code in this notebook. The training data is provided for you. You may use any classification method. Marks will be awarded primarily based on the accuracy of your classifier on unseen test data, but there are also marks for estimating how accurate you think your classifier will be.\n",
    "\n",
    "\n",
    "## Choice of Algorithm\n",
    "While the classification method is a completely free choice, the assignment folder includes [a separate notebook file](data/naivebayes.ipynb) which can help you implement a Naïve Bayes solution. If you do use this notebook, you are still responsible for porting your code into *this* notebook for submission. A good implementation should give a high  enough accuracy to get a good grade.\n",
    "\n",
    "You could also consider a k-nearest neighbour algorithm, but this may be less accurate. Logistic regression is another option that you may wish to consider.\n",
    "\n",
    "If you are looking to go beyond the scope of the unit, you might be interested in building something more advanced, like an artificial neural network. This is possible just using `numpy`, but will require significant self-directed learning. *Extensions like this are left unguided and are not factored into the unit workload estimates.*\n",
    "\n",
    "**Note:** you may use helper functions in libraries like `numpy` or `scipy`, but you **must not** import code which builds entire models for you. This includes but is not limited to use of libraries like `scikit-learn`, `tensorflow`, or `pytorch` – there will be plenty of opportunities for these libraries in later units. The point of this assignment is to understand code of the actual algorithm yourself. ***If you are in any doubt about any particular library or function please ask the teaching team.*** Submissions which ignore this will receive penalties or even zero marks.\n",
    "\n",
    "If you choose to implement more than one algorithm, please feel free to include your code in a separate file and talk about it the readme file, but only the code in this notebook will be used in the automated testing and it will form your mark. You may get extra points for the additional algorithm, but it is not guaranteed. Therefore, if of any doubt, it is better to spend your time focusing on making one algorithm working to its best performance rather than to implement an additional algorithm.\n",
    "\n",
    "## Training Data - spam filtering\n",
    "The training data is described below and has 1000 rows. There is also a 500 row set of test data. These are functionally identical to the training data, they are just in a separate csv file to encourage you to split out your training and test data. You should consider how to best make use of all available data without overfitting, and to help produce an unbiased estimate for your classifier's accuracy.\n",
    "\n",
    "The cell below loads the training data into a variable called `training_spam`."
   ]
  },
  {
   "cell_type": "code",
   "execution_count": null,
   "metadata": {},
   "outputs": [],
   "source": [
    "import numpy as np\n",
    "\n",
    "training_spam = np.loadtxt(open(\"data/training_spam.csv\"), delimiter=\",\").astype(int)\n",
    "print(\"Shape of the spam training data set:\", training_spam.shape)\n",
    "print(training_spam)"
   ]
  },
  {
   "cell_type": "markdown",
   "metadata": {},
   "source": [
    "Your training set consists of 1000 rows and 55 columns. Each row corresponds to one email message. The first column is the _response_ variable and describes whether a message is spam `1` or ham `0`. The remaining 54 columns are _features_ that you will use to build a classifier. These features correspond to 54 different keywords (such as \"money\", \"free\", and \"receive\") and special characters (such as \":\", \"!\", and \"$\"). A feature has the value `1` if the keyword appears in the message and `0` otherwise.\n",
    "\n",
    "As mentioned, there is also a 500-row set of *test data*. It contains the same 55 columns."
   ]
  },
  {
   "cell_type": "code",
   "execution_count": null,
   "metadata": {},
   "outputs": [],
   "source": [
    "testing_spam = np.loadtxt(open(\"data/testing_spam.csv\"), delimiter=\",\").astype(int)\n",
    "print(\"Shape of the spam testing data set:\", testing_spam.shape)\n",
    "print(testing_spam)"
   ]
  },
  {
   "cell_type": "markdown",
   "metadata": {},
   "source": [
    "## Spam filtering classification\n",
    "Write all of the code for your classifier below this cell. There is some very rough skeleton code in the cell directly below. You may insert more cells below this if you wish, but you must not duplicate any cells as this can break the grading script.\n",
    "\n",
    "### Submission Requirements\n",
    "Your code must provide a variable with the name `spam_classifier`. This object must have a method called `predict` which takes input data and returns class predictions. The input will be a single $n \\times 54$ numpy array, your classifier should return a numpy array of length $n$ with classifications. There is a demo in the cell below, and a test you can run before submitting to check your code is working correctly.\n",
    "\n",
    "Your code must run on our test machine in under 30 seconds. If you wish to train a more complicated model (e.g. neural network) which will take longer, you are welcome to save the model's weights as a file and then load these in the cell below so we can test it. You must include the code which computes the original weights, but this must not run when we run the notebook – comment out the code which actually executes the routine and make sure it is clear what we need to change to get it to run. \n",
    "\n",
    "Remember that we will be testing your final classifier on additional hidden data."
   ]
  },
  {
   "cell_type": "code",
   "execution_count": null,
   "metadata": {},
   "outputs": [],
   "source": [
    "# This skeleton code simply classifies every input as ham\n",
    "#\n",
    "# Here you can see there is a parameter k that is unused, the\n",
    "# point is to show you how you could set up your own. You can\n",
    "# also see a train method that does nothing here\n",
    "# but your classifier would probably do the main work here. \n",
    "# Modify this code as much as you like so long as the \n",
    "# accuracy test in the cell below runs\n",
    "\n",
    "class MyClassifier:\n",
    "    def __init__(self, k):\n",
    "        self.k = k\n",
    "        \n",
    "    def train(self, train_data, train_labels):\n",
    "        pass\n",
    "        \n",
    "    def predict(self, test_data):\n",
    "        return np.zeros(test_data.shape[0])\n",
    "\n",
    "spam_classifier = MyClassifier(k=1)\n",
    "spam_classifier.train(train_data=None, train_labels=None)"
   ]
  },
  {
   "cell_type": "markdown",
   "metadata": {},
   "source": [
    "### Accuracy Estimate\n",
    "In the cell below there is a function called `my_accuracy_estimate()` which returns `0.5`. Before you submit the assignment, write your best guess for the accuracy of your classifier into this function, as a percentage between `0` and `1`. So if you think you will get 80% of inputs correct, return the value `0.8`. This will form a small part of the marking criteria for the assignment, to encourage you to test your own code."
   ]
  },
  {
   "cell_type": "code",
   "execution_count": null,
   "metadata": {},
   "outputs": [],
   "source": [
    "def my_accuracy_estimate():\n",
    "    return 0.5"
   ]
  },
  {
   "cell_type": "markdown",
   "metadata": {},
   "source": [
    "Write all of the code for part 1 of the assignment above this cell.\n",
    "\n",
    "### Testing Details\n",
    "Your classifier will be tested against some hidden data from the same source as the original. The accuracy (percentage of classifications correct) will be calculated, then benchmarked against common methods. At the very high end of the grading scale, your accuracy will also be compared to the best submissions from other students (in your own cohort and others!). Your estimate from the cell above will also factor in, and you will be rewarded for being close to your actual accuracy (overestimates and underestimates will be treated the same).\n",
    "\n",
    "#### Test Cell\n",
    "The following code will run your classifier against the provided test data. To enable it, set the constant `SKIP_TESTS` to `False`.\n",
    "\n",
    "The original skeleton code above classifies every row as ham, but once you have written your own classifier you can run this cell again to test it. So long as your code sets up a variable called `spam_classifier` with a method called `predict`, the test code will be able to run. \n",
    "\n",
    "Of course, you may wish to test your classifier in additional ways, but you *must* ensure this version still runs before submitting.\n",
    "\n",
    "**IMPORTANT**: you must set `SKIP_TESTS` back to `True` before submitting this file!"
   ]
  },
  {
   "cell_type": "code",
   "execution_count": null,
   "metadata": {},
   "outputs": [],
   "source": [
    "SKIP_TESTS = True\n",
    "\n",
    "if not SKIP_TESTS:\n",
    "    testing_spam = np.loadtxt(open(\"data/testing_spam.csv\"), delimiter=\",\").astype(int)\n",
    "    test_data = testing_spam[:, 1:]\n",
    "    test_labels = testing_spam[:, 0]\n",
    "\n",
    "    predictions = spam_classifier.predict(test_data)\n",
    "    accuracy = np.count_nonzero(predictions == test_labels)/test_labels.shape[0]\n",
    "    print(f\"Accuracy on test data is: {accuracy}\")"
   ]
  },
  {
   "cell_type": "markdown",
   "metadata": {},
   "source": [
    "# Part 2 (optional, to get more than 70% of the mark for this assignment) - Feature engineering for digit classification\n",
    "\n",
    "Optical character recognition ([OCR](https://en.wikipedia.org/wiki/Optical_character_recognition)) is the task of extracting text from image sources. The dataset on which you will run your classifier is a collection of handwritten numerical digits (0-9). This is a subsample of the famous [MNIST](https://en.wikipedia.org/wiki/MNIST_database) (Modified National Institute of Standards and Technology) dataset, which serves as a popular playground in machine learning research. OCR is a very commercially useful technology, and some existing systems can achieve over 99% classification accuracy.\n",
    "\n",
    "You will need to train a classifier to recognise a given image of a handwritten digit as one of 10 classes $\\{0, 1, \\ldots, 9\\}$ that corresponds to the written digit. You may use any classification method including the same classification method you use for part 1 for spam filtering. If your `MyClassifier` class that can generalised to an arbitrary number of input features and artibtary number of class labels, you may use the same `MyClassifier` for both parts. You will need to have two different instances (`spam_classifier = MyClassifier()` and `digit_classifier = MyClassifier()`) for part 1 and part 2 of the assignments. The main task of part 2 is to improve the classification accuracy via feature engineering (see below). You mark will not directly depend on your choice of classification method and its initial accuracy. \n",
    "\n",
    "Building classifiers is only a small part of getting a good system working for a task. Indeed, the main difference between a good classification system and a bad one is usually not the classifier itself (e.g. perceptron vs. naïve Bayes), but rather the quality of the features used. \n",
    "\n",
    "For digit classification we start with the simplest possible features: for each pixel we use a binary variable, which is set to 1 if a pixel is on (its' colour is not black), or it is set to 0 if a pixel is off (its' colour is black). These are the basic features with which you will need to compare. \n",
    "\n",
    "To improve the accuracy of your classifier, you will need to extract more useful features from the data by completing the `BetterFeatureExtractor` function below. \n",
    "\n",
    "*Hint*: You are free to choose how to approach this task. This is just a possible suggestion. When analyzing your classifiers' results on the base features, you should look at some of your errors and look for characteristics of the input that would give the classifier useful information about the label. For instance in the digit data, consider the number of separate, connected regions of white pixels, which varies by digit type. Digits 1, 2, 3, 5, 7 tend to have one contiguous region of white space while the loops in digits 6, 8, 9 create more. The number of white regions in digit 4 depends on the writer. This is an example of a feature that is not directly available to the classifier from the per-pixel information. If your feature extractor adds new features that encode these properties, the classifier will be able to exploit them. Note that some features may require non-trivial computation to extract.\n",
    "\n",
    "Add new **binary** features for the digit dataset in the `BetterFeatureExtractor` function below. Note that you can encode a feature which takes N values [1,2,...,N] by using N binary features, of which only one is on at the time, to indicate which of the N possibilities you have. In theory, features aren't conditionally independent as naïve Bayes requires, but it can still work well in practice. Note that you may add new feature(s) to the set of basic features, or use only new feature(s) instead of the basic features.\n",
    "\n",
    "The marks for this part of the assignment are given based on the improvement you achieve by using new feature(s) in comparison to the base features on additional hidden data. You will get some marks for implementing new feature(s) which yield any improvement at all. Further marks are given based on how large is the gain in accuracy you achieve. Note that the marks don't depend on the initial accuracy achieved based on the basic features (as long as it is higher than 10% (random guess for a 10-class classification problem)). \n",
    "\n",
    "\n",
    "## Training Data - digit classification\n",
    "You are given training and test datasets for digit classification. The training data is described below and has 300 data point. There are also 300 data points of test data. As for spam filtering data the test data is functionally identical to the training data.\n",
    "\n",
    "The cell below loads the input training data into a variable called `training_digit_input` and their labels into a variable called `training_digit_label`."
   ]
  },
  {
   "cell_type": "code",
   "execution_count": null,
   "metadata": {},
   "outputs": [],
   "source": [
    "training_digit_input = np.load(\"data/training_digit_input.npy\")\n",
    "print(\"Shape of the digit input training data set:\", training_digit_input.shape)\n",
    "print(training_digit_input[0])\n",
    "training_digit_label = np.load(\"data/training_digit_label.npy\")\n",
    "print(\"Shape of the digit label training data set:\", training_digit_label.shape)\n",
    "print(training_digit_label)"
   ]
  },
  {
   "cell_type": "markdown",
   "metadata": {},
   "source": [
    "Your input training set `training_digit_input` is an array of size (300, 28, 28). Each data point (along the 0th dimension) is an image of 28x28 pixels. `training_digit_label` contains the corresponding labels for these images. It is an array of length 300. \n",
    "\n",
    "The cell below visualises the first 5 images with their labels as title of the image."
   ]
  },
  {
   "cell_type": "code",
   "execution_count": null,
   "metadata": {},
   "outputs": [],
   "source": [
    "import matplotlib.pyplot as plt\n",
    "\n",
    "for i in range(5):\n",
    "    plt.imshow(training_digit_input[i], cmap='gray')\n",
    "    plt.axis(\"off\")\n",
    "    plt.title(f\"{training_digit_label[i]}\")\n",
    "    plt.show()"
   ]
  },
  {
   "cell_type": "markdown",
   "metadata": {},
   "source": [
    "The same structure of the data is used for the *test data*."
   ]
  },
  {
   "cell_type": "code",
   "execution_count": null,
   "metadata": {},
   "outputs": [],
   "source": [
    "test_digit_input = np.load(\"data/test_digit_input.npy\")\n",
    "print(\"Shape of the digit input test data set:\", test_digit_input.shape)\n",
    "print(test_digit_input[0])\n",
    "test_digit_label = np.load(\"data/test_digit_label.npy\")\n",
    "print(\"Shape of the digit label test data set:\", test_digit_label.shape)\n",
    "print(test_digit_label)"
   ]
  },
  {
   "cell_type": "markdown",
   "metadata": {},
   "source": [
    "When doing feature extraction the input data is flatten to have the shape (n, 784), where $784 = 28 \\times 28$."
   ]
  },
  {
   "cell_type": "markdown",
   "metadata": {},
   "source": [
    "## Feature engineering for digit classification\n",
    "Write all of the code for your feature extraction below this cell. We also provide the code of the basic feature extraction for your reference. You may insert more cells below this if you wish, but you must not duplicate any cells as this can break the grading script.\n",
    "\n",
    "### Submission Requirements\n",
    "The code for your feature extractor should be included in the `BetterFeatureExtractor` function below. We will call this function to generate new features.\n",
    "\n",
    "Your code must provide a variable with the name `digit_classifier`. This object must have a method called `train` which takes input data and input labels and tune internal parameters of the classifier (if required). If your classifier does not need to use the `train` method (e.g., k-Nearest Neighbour method doesn't use explicit training), you should still have the `train` method, but you can leave it empty with the command `pass`.\n",
    "\n",
    "`digit_classifier` must also have a method called `predict` which takes input data and returns class predictions. \n",
    "\n",
    "The input data will be a single $n \\times m$ numpy array, where $n$ is the number of data points and $m$ is the number of features ($m = 784$ for the basic features). Your classifier should support working with different number of features if your new features are of a different dimension. The input labels will be a single numpy array of length $n$ with true classifications for the input data (for the `train` method).\n",
    "\n",
    "Your classifier when calling the `predict` method should return a numpy array of length $n$ with classifications. There is a demo in the cells below, and a test you can run before submission to check that your code is working correctly.\n",
    "\n",
    "Your code must run on our test machine in under 5 minutes - both training and prediction (on given training and test data).  \n",
    "\n",
    "Remember that we will be testing your classifier on additional hidden data."
   ]
  },
  {
   "cell_type": "code",
   "execution_count": null,
   "metadata": {
    "deletable": false,
    "editable": false,
    "nbgrader": {
     "cell_type": "code",
     "checksum": "96679e416c1f5b5ea9a692ee60b42dfd",
     "grade": false,
     "grade_id": "cell-8cc92a4b0ae1078f",
     "locked": true,
     "schema_version": 3,
     "solution": false,
     "task": false
    }
   },
   "outputs": [],
   "source": [
    "def BasicFeatureExtractor(input_data):\n",
    "    \"\"\"\n",
    "    Returns basic extracted features for input_data. \n",
    "    A binary feature for each pixel: 0 if a pixel is black, 1 otherwise\n",
    "    \n",
    "    :param input_data: a 3-dimensional numpy array of the shape (n, 28, 28)\n",
    "                       input data of n images of 28x28 pixels\n",
    "    \n",
    "    :return extracted_features: a 2-dimensional numpy array of the shape (n, 784)\n",
    "                                extracted binary features \n",
    "    \"\"\"\n",
    "    # compute binary features for each pixel\n",
    "    extracted_features = (input_data > 0).astype(int)\n",
    "    \n",
    "    # flatten images of 28x28 pixels into a vector of 784 length\n",
    "    extracted_features = np.reshape(extracted_features, (extracted_features.shape[0], -1))\n",
    "    \n",
    "    return extracted_features"
   ]
  },
  {
   "cell_type": "code",
   "execution_count": null,
   "metadata": {},
   "outputs": [],
   "source": [
    "def BetterFeatureExtractor(input_data):\n",
    "    \"\"\"\n",
    "    A function for your improved feature extractor\n",
    "    \n",
    "    :param input_data: a 3-dimensional numpy array of the shape (n, 28, 28)\n",
    "                       input data of n images of 28x28 pixels\n",
    "    \n",
    "    :return extracted_features: a 2-dimensional numpy array of the shape (n, m)\n",
    "                                extracted binary m features for n images  \n",
    "    \"\"\"\n",
    "    \n",
    "    extracted_features = BasicFeatureExtractor(input_data)\n",
    "    \n",
    "    ### YOUR CODE HERE...\n",
    "    \n",
    "    return extracted_features"
   ]
  },
  {
   "cell_type": "code",
   "execution_count": null,
   "metadata": {},
   "outputs": [],
   "source": [
    "# example creation and training of a digit classifier. A new instance of MyClassifier class from above\n",
    "digit_classifier = MyClassifier(k=1)\n",
    "digit_classifier.train(train_data=None, train_labels=None)"
   ]
  },
  {
   "cell_type": "markdown",
   "metadata": {},
   "source": [
    "Write all of the code for part 2 of the assignment above this cell.\n",
    "\n",
    "### Testing Details\n",
    "Your classifier performance with both the basic and new features will be tested against some hidden data. The accuracy (percentage of classifications correct) will be calculated and measured whether you get any improvement by using new features in comparison to using the basic features.\n",
    "\n",
    "#### Test Cell\n",
    "The following code will run your classifier with both the basic and new features against the provided test data. To enable it, set the constant `SKIP_TESTS` to `False`.\n",
    "\n",
    "The original skeleton code above classifies every row as 0 (and do not depend on the input data). Moreover, the original code of BetterFeatureExtractor function just returns the basic features. However, once you have written your own classifier and your own BetterFeatureExtractor function you can run this cell again to test it. So long as your code implements BetterFeatureExtractor function and sets up a variable called `digit_classifier` with methods called `train` and `predict`, the test code will be able to run. \n",
    "\n",
    "As with the spam filtering you may wish to test your classifier in additional ways, but you *must* ensure this version still runs before submitting.\n",
    "\n",
    "**IMPORTANT**: you must set `SKIP_TESTS` back to `True` before submitting this file!"
   ]
  },
  {
   "cell_type": "code",
   "execution_count": null,
   "metadata": {},
   "outputs": [],
   "source": [
    "SKIP_TESTS = True\n",
    "\n",
    "if not SKIP_TESTS:\n",
    "    test_digit_input = np.load(\"data/test_digit_input.npy\")\n",
    "    test_digit_label = np.load(\"data/test_digit_label.npy\")\n",
    "    \n",
    "    # train classifier on basic features\n",
    "    training_data = BasicFeatureExtractor(training_digit_input)\n",
    "    digit_classifier.train(training_data, training_digit_label)\n",
    "\n",
    "    # test classifier on basic features\n",
    "    test_data = BasicFeatureExtractor(test_digit_input)\n",
    "    basic_feature_predictions = digit_classifier.predict(test_data)\n",
    "    basic_feature_accuracy = np.count_nonzero(\n",
    "        basic_feature_predictions == test_digit_label)/test_digit_label.shape[0]\n",
    "    print(f\"Accuracy on test data using basic features is: {basic_feature_accuracy}\")\n",
    "    \n",
    "    # train classifier on new features\n",
    "    training_data = BetterFeatureExtractor(training_digit_input)\n",
    "    digit_classifier.train(training_data, training_digit_label)\n",
    "    \n",
    "    # test_classifier on new features\n",
    "    test_data = BetterFeatureExtractor(test_digit_input)\n",
    "    new_feature_predictions = digit_classifier.predict(test_data)\n",
    "    new_feature_accuracy = np.count_nonzero(\n",
    "        new_feature_predictions == test_digit_label)/test_digit_label.shape[0]\n",
    "    print(f\"Accuracy on test data using new features is: {new_feature_accuracy}\")\n",
    "    \n",
    "    # compare accuracies achieved on different sets of features\n",
    "    accuracy_gain = new_feature_accuracy - basic_feature_accuracy\n",
    "    print(f\"Accuracy gained by using new features is: {accuracy_gain}\")"
   ]
  },
  {
   "cell_type": "markdown",
   "metadata": {},
   "source": [
    "# Submission test <a name=\"Submission-Test\"></a>\n",
    "The following cell tests if your notebook is ready for submission. You must not skip this step!\n",
    "\n",
    "Restart the kernel and run the entire notebook (Kernel → Restart & Run All). Now look at the output of the cell below.\n",
    "\n",
    "If there is no output, then your submission is not ready. Either your code is still running (did you forget to skip tests?) or it caused an error.\n",
    "\n",
    "As previously mentioned, failing to follow these instructions can result in a grade of zero."
   ]
  },
  {
   "cell_type": "code",
   "execution_count": null,
   "metadata": {
    "deletable": false,
    "editable": false,
    "nbgrader": {
     "cell_type": "code",
     "checksum": "30de84a8cd564fc5d78ed0b1e950ab43",
     "grade": false,
     "grade_id": "cell-ce83a675162843d3",
     "locked": true,
     "schema_version": 3,
     "solution": false,
     "task": false
    }
   },
   "outputs": [],
   "source": [
    "import sys\n",
    "import pathlib\n",
    "\n",
    "fail = False;\n",
    "\n",
    "if not SKIP_TESTS:\n",
    "    fail = True;\n",
    "    print(\"You must set the SKIP_TESTS constant to True in the cell above.\")\n",
    "    \n",
    "p1 = pathlib.Path('./readme.txt')\n",
    "p2 = pathlib.Path('./readme.md')\n",
    "if not (p1.is_file() or p2.is_file()):\n",
    "    fail = True;\n",
    "    print(\"You must include a separate file called readme.txt or readme.md in your submission.\")\n",
    "    \n",
    "p3 = pathlib.Path('./classification.ipynb')\n",
    "if not p3.is_file():\n",
    "    fail = True\n",
    "    print(\"This notebook file must be named classification.ipynb\")\n",
    "    \n",
    "if \"my_accuracy_estimate\" not in dir():\n",
    "    fail = True;\n",
    "    print(\"You must include a function called my_accuracy_estimate.\")\n",
    "else:\n",
    "    if my_accuracy_estimate() == 0.5:\n",
    "        print(\"Warning:\")\n",
    "        print(\"You do not seem to have provided an accuracy estimate, it is set to 0.5.\")\n",
    "        print(\"This is the actually the worst possible accuracy – if your classifier\")\n",
    "        print(\"got 0.1 then it could invert its results to get 0.9!\")\n",
    "    \n",
    "if \"spam_classifier\" not in locals():\n",
    "    fail = True\n",
    "    print(\"Your code should contain the variable spam_classifier.\")\n",
    "else:\n",
    "    if not hasattr(spam_classifier, 'predict'):\n",
    "        fail = True\n",
    "        print(\"The variable spam_classifier should have the method 'predict'.\")\n",
    "        \n",
    "if \"digit_classifier\" not in locals():\n",
    "    print(\"Warning:\")\n",
    "    print(\"If you opt to submit the code for the second part of the assignment\")\n",
    "    print(\"your code should contain the variable digit_classifier.\")\n",
    "else:\n",
    "    if (not hasattr(digit_classifier, 'train')) or \\\n",
    "        (not hasattr(digit_classifier, 'predict')):\n",
    "            print(\"Warning:\")\n",
    "            print(\"If you opt to submit the code for the second part of the assignment\")\n",
    "            print(\"the variable digit_classifier should have both methods 'train' and 'predict'.\")\n",
    "            \n",
    "test_digit_input = np.load(\"data/test_digit_input.npy\")\n",
    "test_data_basic = BasicFeatureExtractor(test_digit_input)\n",
    "test_data_new = BetterFeatureExtractor(test_digit_input)\n",
    "if np.array_equal(test_data_basic, test_data_new):\n",
    "    print(\"Warning:\")\n",
    "    print(\"If you opt to submit the code for the second part of the assignment\")\n",
    "    print(\"you do not seem to implement the BetterFeatureExtractor function.\")\n",
    "    print(\"It returns the basic features\")\n",
    "    \n",
    "if fail:\n",
    "    sys.stderr.write(\"Your submission is not ready! Please read and follow the instructions above.\")\n",
    "else:\n",
    "    print(\"All checks passed. When you are ready to submit, upload the notebook and readme file to the\")\n",
    "    print(\"assignment page, without changing any filenames.\")\n",
    "    print()\n",
    "    print(\"INFO: Make sure you include a readme file into your submission.\")\n",
    "    print(\"Failing to include this could result in an overall grade of zero.\")\n",
    "    print()\n",
    "    print(\"If you need to submit multiple files, you can archive them in a .zip file. (No other format.).\")\n",
    "    print(\"Please note that you can submit up to 20 files without archiving them.\")"
   ]
  },
  {
   "cell_type": "code",
   "execution_count": null,
   "metadata": {
    "deletable": false,
    "editable": false,
    "nbgrader": {
     "cell_type": "code",
     "checksum": "badbc892f539e03ad0acdb369f7e0993",
     "grade": true,
     "grade_id": "cell-b64bc40ab6485b50",
     "locked": true,
     "points": 100,
     "schema_version": 3,
     "solution": false,
     "task": false
    }
   },
   "outputs": [],
   "source": [
    "# This is a test cell. Please do not modify or delete."
   ]
  }
 ],
 "metadata": {
  "kernelspec": {
   "display_name": "Python 3",
   "language": "python",
   "name": "python3"
  },
  "language_info": {
   "codemirror_mode": {
    "name": "ipython",
    "version": 3
   },
   "file_extension": ".py",
   "mimetype": "text/x-python",
   "name": "python",
   "nbconvert_exporter": "python",
   "pygments_lexer": "ipython3",
   "version": "3.8.8"
  }
 },
 "nbformat": 4,
 "nbformat_minor": 4
}
